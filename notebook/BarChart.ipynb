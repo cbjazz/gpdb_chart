{
 "cells": [
  {
   "cell_type": "markdown",
   "metadata": {},
   "source": [
    "# Library Import"
   ]
  },
  {
   "cell_type": "code",
   "execution_count": 1,
   "metadata": {},
   "outputs": [],
   "source": [
    "import matplotlib as mlp\n",
    "import matplotlib.pyplot as plt\n",
    "import matplotlib.colors as colors\n",
    "import matplotlib.cm as cmx\n",
    "from cycler import cycler \n",
    "import numpy as np\n",
    "import json\n",
    "import pandas as pd"
   ]
  },
  {
   "cell_type": "markdown",
   "metadata": {},
   "source": [
    "# Chart Option "
   ]
  },
  {
   "cell_type": "code",
   "execution_count": 2,
   "metadata": {},
   "outputs": [],
   "source": [
    "OPT_STYLE = 'style'\n",
    "OPT_COLOR_MAP = 'axes.color_map'\n",
    "OPT_COLOR_PALLETE = 'axes.color_pallete'\n",
    "OPT_COLOR_ALPHA = 'axes.color_alpha'\n",
    "OPT_PROP_CYCLE = 'axes.prop_cycle'\n",
    "OPT_BAR_WIDTH = 'axes.bar_width'\n",
    "OPT_BAND_COLOR = 'axes.band_color'\n",
    "OPT_BAND_COLOR_ALPHA = 'axes.band_color_alpha'\n",
    "\n",
    "non_mlp_options = [\n",
    "    OPT_STYLE, \n",
    "    OPT_COLOR_MAP, \n",
    "    OPT_COLOR_PALLETE, \n",
    "    OPT_COLOR_ALPHA, \n",
    "    OPT_BAR_WIDTH,\n",
    "    OPT_BAND_COLOR,\n",
    "    OPT_BAND_COLOR_ALPHA\n",
    "]\n",
    "\n",
    "def set_color_map(values, alpha=1.0, max_legend_cnt=1):\n",
    "    color_map = []\n",
    "    color_norm = colors.Normalize(vmin=0, vmax=max_legend_cnt)\n",
    "    scalar_map = cmx.ScalarMappable(norm=color_norm,\n",
    "                                   cmap=values)\n",
    "    color_map = [scalar_map.to_rgba(i, alpha=alpha) for i in range(max_legend_cnt)]\n",
    "    return color_map\n",
    "\n",
    "def set_cycler(json_dic,max_legend_cnt=1): \n",
    "    # Set color cycler\n",
    "    color_map = []\n",
    "    alpha = 1.0\n",
    "    if OPT_COLOR_ALPHA in json_dic.keys():\n",
    "        alpha = json_dic[OPT_COLOR_ALPHA]\n",
    "    if OPT_COLOR_MAP in json_dic.keys():\n",
    "        color_map = set_color_map(json_dic[OPT_COLOR_MAP], alpha, max_legend_cnt)\n",
    "    if OPT_COLOR_PALLETE in json_dic.keys():\n",
    "        color_map = [colors.to_rgba(val, alpha=alpha) for val in json_dic[OPT_COLOR_PALLETE]]\n",
    "    if color_map:\n",
    "        mlp.rcParams[OPT_PROP_CYCLE] = cycler(color = color_map)\n",
    "    \n",
    "def set_mlp_option(json_dic):\n",
    "    for key in json_dic.keys():\n",
    "        if key not in non_mlp_options:\n",
    "            mlp.rcParams[key] = json_dic[key]\n",
    "            \n",
    "def set_bar_width(x_size, x_cnt, legend_cnt):\n",
    "    return (x_size / (x_cnt * legend_cnt))*2"
   ]
  },
  {
   "cell_type": "markdown",
   "metadata": {},
   "source": [
    "### Merge Data "
   ]
  },
  {
   "cell_type": "code",
   "execution_count": 3,
   "metadata": {},
   "outputs": [],
   "source": [
    "def merge_legend(X, Y, legends):\n",
    "    unique_x = np.unique(X)\n",
    "    unique_legend = np.unique(legends)\n",
    "    \n",
    "    df_merge = pd.DataFrame(\n",
    "        {\n",
    "            'X': unique_x\n",
    "        }\n",
    "    )\n",
    "    \n",
    "    for legend in unique_legend:\n",
    "        df = pd.DataFrame (\n",
    "            {\n",
    "                'X' : X[np.where(legends==legend)], \n",
    "                'Y_' + legend : Y[np.where(legends==legend)]\n",
    "            }\n",
    "        )\n",
    "        df_merge = df_merge.merge(df, how='left', on=['X'])\n",
    "        \n",
    "    return df_merge"
   ]
  },
  {
   "cell_type": "markdown",
   "metadata": {},
   "source": [
    "# Draw Chart"
   ]
  },
  {
   "cell_type": "code",
   "execution_count": 4,
   "metadata": {},
   "outputs": [],
   "source": [
    "def draw_bar_chart(X, Y, title, legend, sequence, options):\n",
    "    if legend.size != 0:\n",
    "        u_legend = np.unique(legend)\n",
    "        u_legend_cnt = len(u_legend)\n",
    "    else:\n",
    "        u_legend = np.array([title])\n",
    "        u_legend_cnt = 1\n",
    "    \n",
    "    # Set style options\n",
    "    option_dict = json.loads(options)\n",
    "    \n",
    "    if OPT_STYLE in option_dict.keys():\n",
    "        plt.style.use(option_dict[OPT_STYLE])\n",
    "\n",
    "    if (OPT_COLOR_MAP in option_dict.keys()\n",
    "        or OPT_COLOR_PALLETE in option_dict.keys()):\n",
    "        set_cycler(option_dict, u_legend_cnt)\n",
    "        \n",
    "    set_mlp_option(option_dict)\n",
    "    \n",
    "    # Draw chart and bind data    \n",
    "    fig, ax = plt.subplots()\n",
    "    ax.set_title(title)\n",
    "    \n",
    "    if sequence.size != 0:\n",
    "        seq = []\n",
    "        for i in range(u_legend_cnt):\n",
    "            seq.append(sequence[np.where(legend==u_legend[i])][0])\n",
    "        sorted_seq_index = np.argsort(seq)\n",
    "    else:\n",
    "        seq = np.arange(u_legend_cnt)\n",
    "        sorted_seq_index = np.arange(u_legend_cnt)\n",
    "        \n",
    "    df = merge_legend(X, Y, legend) \n",
    "    \n",
    "    # Set bar width\n",
    "    if (OPT_BAR_WIDTH in option_dict.keys()):\n",
    "        axes_barwidth = option_dict[OPT_BAR_WIDTH]\n",
    "    else:\n",
    "        bbox = ax.get_window_extent().transformed(fig.dpi_scale_trans.inverted())\n",
    "        axes_barwidth = set_bar_width(bbox.width, df.shape[0], u_legend_cnt)    \n",
    "    \n",
    "    idx = 0 \n",
    "    for i in sorted_seq_index:\n",
    "        subX = df['X']\n",
    "        subY = df['Y_' + u_legend[i]]\n",
    "        \n",
    "        ax.bar(np.array(df.index.tolist()) + (axes_barwidth * idx), subY, \n",
    "                axes_barwidth, \n",
    "                label=u_legend[i])\n",
    "        idx = idx + 1\n",
    "    ax.set_xticks(np.array(df.index.tolist()) + axes_barwidth/u_legend_cnt)    \n",
    "    ax.set_xticklabels(df['X'])\n",
    "        \n",
    "    ax.legend()\n",
    "    plt.show()"
   ]
  },
  {
   "cell_type": "markdown",
   "metadata": {},
   "source": [
    "# Get Stock Price in YAHOO  "
   ]
  },
  {
   "cell_type": "code",
   "execution_count": 5,
   "metadata": {},
   "outputs": [],
   "source": [
    "from pandas_datareader import data\n",
    "import pandas as pd\n",
    "import pprint\n",
    "from datetime import datetime\n",
    "def getStockHistory(companyCode, fromDate, toDate):\n",
    "    dataSource = 'yahoo'\n",
    "    storeList = []\n",
    "    ticker = companyCode\n",
    "    print('===========>Call ' + ticker)\n",
    "    try:\n",
    "        start = pd.to_datetime(fromDate).date()\n",
    "        end = pd.to_datetime(toDate).date()\n",
    "        panel_data = data.DataReader(ticker, dataSource, start, end)\n",
    "    except:\n",
    "        print(ticker + ' ommit')\n",
    "        return\n",
    "    panel_data = panel_data.transpose()\n",
    "    if len(panel_data) > 0:\n",
    "        for stock_data in panel_data:\n",
    "                storeDic = {}\n",
    "                #print stock_data\n",
    "                storeDic[\"code\"] = ticker\n",
    "                storeDic[\"s_date\"] = stock_data\n",
    "                #storeDic[\"adj_close\"] = stock_data[\"Adj Close\"]\n",
    "                storeDic[\"s_close\"] = panel_data[stock_data][\"Close\"]\n",
    "                storeDic[\"s_open\"] = panel_data[stock_data][\"Open\"]\n",
    "                storeDic[\"s_high\"] = panel_data[stock_data][\"High\"]\n",
    "                storeDic[\"s_low\"] = panel_data[stock_data][\"Low\"]\n",
    "                storeDic[\"s_volume\"] = panel_data[stock_data][\"Volume\"]\n",
    "                storeList.append(storeDic)\n",
    "                #pprint.pprint(storeDic)\n",
    "    else:\n",
    "        print (ticker + ' does not exist')\n",
    "    print ('===========>END ' + ticker)   \n",
    "    \n",
    "    return storeList"
   ]
  },
  {
   "cell_type": "markdown",
   "metadata": {},
   "source": [
    "###  015260.KS price"
   ]
  },
  {
   "cell_type": "code",
   "execution_count": 6,
   "metadata": {},
   "outputs": [
    {
     "name": "stdout",
     "output_type": "stream",
     "text": [
      "===========>Call 015260.KS\n",
      "===========>END 015260.KS\n"
     ]
    }
   ],
   "source": [
    "storeList1 = getStockHistory('015260.KS', '2018-10-01', '2018-11-01')"
   ]
  },
  {
   "cell_type": "markdown",
   "metadata": {},
   "source": [
    "### 078520.KS price "
   ]
  },
  {
   "cell_type": "code",
   "execution_count": 7,
   "metadata": {},
   "outputs": [
    {
     "name": "stdout",
     "output_type": "stream",
     "text": [
      "===========>Call 078520.KS\n",
      "===========>END 078520.KS\n"
     ]
    }
   ],
   "source": [
    "storeList2 = getStockHistory('078520.KS', '2018-10-01', '2018-11-01')"
   ]
  },
  {
   "cell_type": "code",
   "execution_count": 8,
   "metadata": {},
   "outputs": [
    {
     "name": "stdout",
     "output_type": "stream",
     "text": [
      "===========>Call 095570.KS\n",
      "===========>END 095570.KS\n"
     ]
    }
   ],
   "source": [
    "storeList3 = getStockHistory('095570.KS', '2018-10-01', '2018-11-01')"
   ]
  },
  {
   "cell_type": "markdown",
   "metadata": {},
   "source": [
    "## Make & Merge Dataframe "
   ]
  },
  {
   "cell_type": "code",
   "execution_count": 9,
   "metadata": {},
   "outputs": [],
   "source": [
    "df_data1 = pd.DataFrame(storeList1, columns=storeList1[0].keys())"
   ]
  },
  {
   "cell_type": "code",
   "execution_count": 10,
   "metadata": {},
   "outputs": [],
   "source": [
    "df_data2 = pd.DataFrame(storeList2, columns=storeList2[0].keys())"
   ]
  },
  {
   "cell_type": "code",
   "execution_count": 11,
   "metadata": {},
   "outputs": [],
   "source": [
    "df_data3 = pd.DataFrame(storeList3, columns=storeList3[0].keys())"
   ]
  },
  {
   "cell_type": "code",
   "execution_count": 12,
   "metadata": {},
   "outputs": [],
   "source": [
    "frame = [df_data1, df_data2, df_data3]"
   ]
  },
  {
   "cell_type": "code",
   "execution_count": 13,
   "metadata": {},
   "outputs": [],
   "source": [
    "df_data = pd.concat(frame)"
   ]
  },
  {
   "cell_type": "code",
   "execution_count": 14,
   "metadata": {},
   "outputs": [
    {
     "data": {
      "text/html": [
       "<div>\n",
       "<style>\n",
       "    .dataframe thead tr:only-child th {\n",
       "        text-align: right;\n",
       "    }\n",
       "\n",
       "    .dataframe thead th {\n",
       "        text-align: left;\n",
       "    }\n",
       "\n",
       "    .dataframe tbody tr th {\n",
       "        vertical-align: top;\n",
       "    }\n",
       "</style>\n",
       "<table border=\"1\" class=\"dataframe\">\n",
       "  <thead>\n",
       "    <tr style=\"text-align: right;\">\n",
       "      <th></th>\n",
       "      <th>code</th>\n",
       "      <th>s_date</th>\n",
       "      <th>s_close</th>\n",
       "      <th>s_open</th>\n",
       "      <th>s_high</th>\n",
       "      <th>s_low</th>\n",
       "      <th>s_volume</th>\n",
       "    </tr>\n",
       "  </thead>\n",
       "  <tbody>\n",
       "    <tr>\n",
       "      <th>0</th>\n",
       "      <td>015260.KS</td>\n",
       "      <td>2018-10-01</td>\n",
       "      <td>610</td>\n",
       "      <td>607</td>\n",
       "      <td>614</td>\n",
       "      <td>606</td>\n",
       "      <td>133486</td>\n",
       "    </tr>\n",
       "    <tr>\n",
       "      <th>1</th>\n",
       "      <td>015260.KS</td>\n",
       "      <td>2018-10-02</td>\n",
       "      <td>604</td>\n",
       "      <td>605</td>\n",
       "      <td>616</td>\n",
       "      <td>601</td>\n",
       "      <td>184002</td>\n",
       "    </tr>\n",
       "    <tr>\n",
       "      <th>2</th>\n",
       "      <td>015260.KS</td>\n",
       "      <td>2018-10-04</td>\n",
       "      <td>590</td>\n",
       "      <td>602</td>\n",
       "      <td>611</td>\n",
       "      <td>586</td>\n",
       "      <td>438742</td>\n",
       "    </tr>\n",
       "    <tr>\n",
       "      <th>3</th>\n",
       "      <td>015260.KS</td>\n",
       "      <td>2018-10-05</td>\n",
       "      <td>567</td>\n",
       "      <td>584</td>\n",
       "      <td>597</td>\n",
       "      <td>563</td>\n",
       "      <td>632892</td>\n",
       "    </tr>\n",
       "    <tr>\n",
       "      <th>4</th>\n",
       "      <td>015260.KS</td>\n",
       "      <td>2018-10-08</td>\n",
       "      <td>562</td>\n",
       "      <td>561</td>\n",
       "      <td>570</td>\n",
       "      <td>555</td>\n",
       "      <td>295241</td>\n",
       "    </tr>\n",
       "  </tbody>\n",
       "</table>\n",
       "</div>"
      ],
      "text/plain": [
       "        code     s_date  s_close  s_open  s_high  s_low  s_volume\n",
       "0  015260.KS 2018-10-01      610     607     614    606    133486\n",
       "1  015260.KS 2018-10-02      604     605     616    601    184002\n",
       "2  015260.KS 2018-10-04      590     602     611    586    438742\n",
       "3  015260.KS 2018-10-05      567     584     597    563    632892\n",
       "4  015260.KS 2018-10-08      562     561     570    555    295241"
      ]
     },
     "execution_count": 14,
     "metadata": {},
     "output_type": "execute_result"
    }
   ],
   "source": [
    "df_data.head()"
   ]
  },
  {
   "cell_type": "code",
   "execution_count": 15,
   "metadata": {},
   "outputs": [
    {
     "data": {
      "text/plain": [
       "(69, 7)"
      ]
     },
     "execution_count": 15,
     "metadata": {},
     "output_type": "execute_result"
    }
   ],
   "source": [
    "df_data.shape"
   ]
  },
  {
   "cell_type": "markdown",
   "metadata": {},
   "source": [
    "## Set Chart Option "
   ]
  },
  {
   "cell_type": "markdown",
   "metadata": {},
   "source": [
    "####  현재까지 사용가능한 옵션들\n",
    "* Default Options : https://matplotlib.org/tutorials/introductory/customizing.html\n",
    "* style\n",
    "    - Style 옵션은 \"plt.style.available\"에서 확인할 수 있다. \n",
    "    <br>\n",
    "     'seaborn-dark',\n",
    "     'seaborn-darkgrid',\n",
    "     'seaborn-ticks',\n",
    "     'fivethirtyeight',\n",
    "     'seaborn-whitegrid',\n",
    "     'classic',\n",
    "     '_classic_test',\n",
    "     'fast',\n",
    "     'seaborn-talk',\n",
    "     'seaborn-dark-palette',\n",
    "     'seaborn-bright',\n",
    "     'seaborn-pastel',\n",
    "     'grayscale',\n",
    "     'seaborn-notebook',\n",
    "     'ggplot',\n",
    "     'seaborn-colorblind',\n",
    "     'seaborn-muted',\n",
    "     'seaborn',\n",
    "     'Solarize_Light2',\n",
    "     'seaborn-paper',\n",
    "     'bmh',\n",
    "     'seaborn-white',\n",
    "     'dark_background',\n",
    "     'seaborn-poster',\n",
    "     'seaborn-deep'\n",
    "* color \n",
    "    - axes.color_map\n",
    "    - axes.color_pallete\n",
    "    - axes.color_alpha\n",
    "        - Color 옵션은 map 또는 pallete 를 정의한다. 두 개다 있을 경우에는 pallete 가 우선 적용된다."
   ]
  },
  {
   "cell_type": "code",
   "execution_count": 16,
   "metadata": {},
   "outputs": [],
   "source": [
    "options = '''{\n",
    "    \"style\":\"bmh\", \n",
    "    \"figure.figsize\": [13.0, 6.0], \n",
    "    \"legend.loc\":\"upper right\",\n",
    "    \"lines.marker\":\"o\",\n",
    "    \"axes.color_pallete\": [\"#ED553B\", \"#20639B\", \"#3CAEA3\", \"#F6D55C\"],\n",
    "    \"axes.color_alpha\":0.7\n",
    "    }'''\n",
    "# \"pallete\":[\"#173F5F\", \"#20639B\", \"#3CAEA3\", \"#F6D55C\", \"#ED553B\"]"
   ]
  },
  {
   "cell_type": "markdown",
   "metadata": {},
   "source": [
    "## Call Draw Chart "
   ]
  },
  {
   "cell_type": "code",
   "execution_count": 17,
   "metadata": {},
   "outputs": [
    {
     "data": {
      "image/png": "[encoded data removed]",
      "text/plain": [
       "<matplotlib.figure.Figure at 0x10a8f6128>"
      ]
     },
     "metadata": {},
     "output_type": "display_data"
    }
   ],
   "source": [
    "title = 'Stock Compare'\n",
    "legend = np.array(df_data['code'].tolist())\n",
    "sequence = np.concatenate([np.full(23,2), np.full(23, 0), np.full(23,1)])\n",
    "x = np.array(df_data.index.tolist())\n",
    "y = np.array(df_data['s_close'].tolist())\n",
    "draw_bar_chart(x, y, title, legend, sequence, options)"
   ]
  }
 ],
 "metadata": {
  "kernelspec": {
   "display_name": "Python 3",
   "language": "python",
   "name": "python3"
  },
  "language_info": {
   "codemirror_mode": {
    "name": "ipython",
    "version": 3
   },
   "file_extension": ".py",
   "mimetype": "text/x-python",
   "name": "python",
   "nbconvert_exporter": "python",
   "pygments_lexer": "ipython3",
   "version": "3.6.3"
  }
 },
 "nbformat": 4,
 "nbformat_minor": 2
}

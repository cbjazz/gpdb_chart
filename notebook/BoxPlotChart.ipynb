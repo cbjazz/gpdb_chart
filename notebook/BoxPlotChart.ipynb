{
 "cells": [
  {
   "cell_type": "markdown",
   "metadata": {},
   "source": [
    "# Library Import"
   ]
  },
  {
   "cell_type": "code",
   "execution_count": 1,
   "metadata": {},
   "outputs": [],
   "source": [
    "import matplotlib.pyplot as plt\n",
    "import matplotlib.colors as colors\n",
    "import matplotlib.cm as cmx\n",
    "from matplotlib.patches import Polygon\n",
    "import numpy as np\n",
    "import json"
   ]
  },
  {
   "cell_type": "markdown",
   "metadata": {},
   "source": [
    "# Chart Option Class "
   ]
  },
  {
   "cell_type": "code",
   "execution_count": 2,
   "metadata": {},
   "outputs": [],
   "source": [
    "class MyChartOption:\n",
    "    def __init__(self, jsonString):\n",
    "        self.json = json.loads(jsonString)\n",
    "    \n",
    "    def getOption(self, option_name):\n",
    "        tokens = option_name.split('.')\n",
    "        value = self.json\n",
    "        for token in tokens:\n",
    "            if token in value:\n",
    "                value = value[token]\n",
    "            else: \n",
    "                return None\n",
    "        return value\n",
    "    \n",
    "    def isExist(self, option_name):\n",
    "        tokens = option_name.split('.')\n",
    "        value = self.json\n",
    "        for token in tokens:\n",
    "            if token in value:\n",
    "                value = value[token]\n",
    "            else: \n",
    "                return False\n",
    "        return True"
   ]
  },
  {
   "cell_type": "markdown",
   "metadata": {},
   "source": [
    "# Draw Chart"
   ]
  },
  {
   "cell_type": "code",
   "execution_count": 3,
   "metadata": {},
   "outputs": [],
   "source": [
    "def drawPlotChart(Y, title, legend, sequence, whiskers_length=1.5, options=None):\n",
    "    if legend != None:\n",
    "        u_legend = np.unique(legend)\n",
    "        u_legend_cnt = len(u_legend)\n",
    "    else:\n",
    "        u_legend = np.array([title])\n",
    "        u_legend_cnt = 1\n",
    "    \n",
    "    \"\"\"\n",
    "    Set style option\n",
    "    \"\"\"\n",
    "    if options.isExist('style'):\n",
    "        plt.style.use(options.getOption('style'))\n",
    "    \n",
    "    \"\"\"\n",
    "    Set figure options\n",
    "    \"\"\"\n",
    "    if options.isExist('fig'):\n",
    "        fig_size_x = options.getOption('fig.x_size')\n",
    "        fig_size_y = options.getOption('fig.y_size')\n",
    "        \n",
    "    \"\"\"\n",
    "    Set legend options\n",
    "    \"\"\"\n",
    "    if options.isExist('legend'):\n",
    "        legend_loc = options.getOption('legend.loc')\n",
    "\n",
    "    \"\"\"\n",
    "    Set color map\n",
    "    \"\"\"\n",
    "    if options.isExist('color'):\n",
    "        color_map = []\n",
    "        if (options.isExist('color.pallete')):\n",
    "            color_map = options.getOption('color.pallete')\n",
    "        elif (options.isExist('color.map')):\n",
    "            color_norm = colors.Normalize(vmin=0, vmax=u_legend_cnt)\n",
    "            scalar_map = cmx.ScalarMappable(norm=color_norm, \n",
    "                                cmap = options.getOption('color.map'))       \n",
    "            for i in range(u_legend_cnt):\n",
    "                color_map.append(scalar_map.to_rgba(i))\n",
    "    \"\"\"\n",
    "    Set axes options\n",
    "    \"\"\"\n",
    "    if options.isExist('axes'):\n",
    "        axes_alpha = options.getOption('axes.alpha')\n",
    "        axes_format = options.getOption('axes.format')\n",
    "        axes_marker = options.getOption('axes.marker')\n",
    "        axes_markersize = options.getOption('axes.markersize')\n",
    "        axes_linewidth = options.getOption('axes.linewidth')\n",
    "        if options.isExist('axes.vertical'):\n",
    "            axes_vertical = 1 \n",
    "        else: \n",
    "            if options.getOption('axes.vertical') == 'true':\n",
    "                axes_vertical = 1\n",
    "            else:\n",
    "                axes_vertical = 0\n",
    "    \n",
    "    \"\"\"\n",
    "    Set x-axis options\n",
    "    \"\"\"\n",
    "    if options.isExist('x_axis'):\n",
    "        x_axis_rotation = options.getOption('x_axis.rotation')\n",
    "        x_axis_fontsize = options.getOption('x_axis.fontsize')\n",
    "        \n",
    "        \n",
    "    fig, ax = plt.subplots()\n",
    "    fig.set_size_inches(fig_size_x, fig_size_y)  \n",
    "    ax.set_title(title)\n",
    "    \n",
    "    if sequence != None:\n",
    "        seq = []\n",
    "        for i in range(u_legend_cnt):\n",
    "            seq.append(sequence[np.where(legend==u_legend[i])][0])\n",
    "        sorted_seq_index = np.argsort(seq)\n",
    "    else:\n",
    "        seq = np.arange(u_legend_cnt)\n",
    "        sorted_seq_index = np.arange(u_legend_cnt)\n",
    "\n",
    "    data = []\n",
    "    sorted_legend = []\n",
    "    if u_legend_cnt > 1:\n",
    "        for i in sorted_seq_index:\n",
    "            subY = Y[np.where(legend==u_legend[i])]\n",
    "            data.append(subY)\n",
    "            sorted_legend.append(u_legend[i])\n",
    "    else:\n",
    "        data.append(Y)\n",
    "        sorted_legend.append(title)\n",
    "        \n",
    "        \n",
    "    bp = ax.boxplot(data, \n",
    "                    notch=0, \n",
    "                    sym=axes_marker, \n",
    "                    vert=axes_vertical, \n",
    "                    whis=whiskers_length)\n",
    "    \n",
    "    for i in range(u_legend_cnt):\n",
    "        box = bp['boxes'][i]\n",
    "        boxX = []\n",
    "        boxY = []\n",
    "        for j in range(5):\n",
    "            boxX.append(box.get_xdata()[j])\n",
    "            boxY.append(box.get_ydata()[j])\n",
    "        boxCoords = np.column_stack([boxX, boxY])\n",
    "        boxPolygon = Polygon(boxCoords, facecolor=color_map[i])\n",
    "        ax.add_patch(boxPolygon)\n",
    "    \n",
    "    if options.isExist('box.boxes.color'):\n",
    "        plt.setp(bp['boxes'], color=options.getOption('box.boxes.color'))\n",
    "    if options.isExist('box.whiskers.color'):\n",
    "        plt.setp(bp['whiskers'], color=options.getOption('box.whiskers.color'))\n",
    "    if options.isExist('box.fliers.color'):\n",
    "        plt.setp(bp['fliers'], color=options.getOption('box.fliers.color'))\n",
    "    \n",
    "    ax.set_xticklabels(sorted_legend, \n",
    "                       rotation=x_axis_rotation, \n",
    "                       fontsize=x_axis_fontsize)\n",
    "    \n",
    "    plt.show()"
   ]
  },
  {
   "cell_type": "markdown",
   "metadata": {},
   "source": [
    "# Get Stock Price in YAHOO  "
   ]
  },
  {
   "cell_type": "code",
   "execution_count": 4,
   "metadata": {},
   "outputs": [],
   "source": [
    "from pandas_datareader import data\n",
    "import pandas as pd\n",
    "import pprint\n",
    "from datetime import datetime\n",
    "def getStockHistory(companyCode, fromDate, toDate):\n",
    "    dataSource = 'yahoo'\n",
    "    storeList = []\n",
    "    ticker = companyCode\n",
    "    print('===========>Call ' + ticker)\n",
    "    try:\n",
    "        start = pd.to_datetime(fromDate).date()\n",
    "        end = pd.to_datetime(toDate).date()\n",
    "        panel_data = data.DataReader(ticker, dataSource, start, end)\n",
    "    except:\n",
    "        print(ticker + ' ommit')\n",
    "        return\n",
    "    panel_data = panel_data.transpose()\n",
    "    if len(panel_data) > 0:\n",
    "        for stock_data in panel_data:\n",
    "                storeDic = {}\n",
    "                #print stock_data\n",
    "                storeDic[\"code\"] = ticker\n",
    "                storeDic[\"s_date\"] = stock_data\n",
    "                #storeDic[\"adj_close\"] = stock_data[\"Adj Close\"]\n",
    "                storeDic[\"s_close\"] = panel_data[stock_data][\"Close\"]\n",
    "                storeDic[\"s_open\"] = panel_data[stock_data][\"Open\"]\n",
    "                storeDic[\"s_high\"] = panel_data[stock_data][\"High\"]\n",
    "                storeDic[\"s_low\"] = panel_data[stock_data][\"Low\"]\n",
    "                storeDic[\"s_volume\"] = panel_data[stock_data][\"Volume\"]\n",
    "                storeList.append(storeDic)\n",
    "                #pprint.pprint(storeDic)\n",
    "    else:\n",
    "        print (ticker + ' does not exist')\n",
    "    print ('===========>END ' + ticker)   \n",
    "    \n",
    "    return storeList"
   ]
  },
  {
   "cell_type": "markdown",
   "metadata": {},
   "source": [
    "###  015260.KS price"
   ]
  },
  {
   "cell_type": "code",
   "execution_count": 5,
   "metadata": {},
   "outputs": [
    {
     "name": "stdout",
     "output_type": "stream",
     "text": [
      "===========>Call 015260.KS\n",
      "===========>END 015260.KS\n"
     ]
    }
   ],
   "source": [
    "storeList1 = getStockHistory('015260.KS', '2018-10-01', '2018-11-01')"
   ]
  },
  {
   "cell_type": "markdown",
   "metadata": {},
   "source": [
    "### 078520.KS price "
   ]
  },
  {
   "cell_type": "code",
   "execution_count": 6,
   "metadata": {},
   "outputs": [
    {
     "name": "stdout",
     "output_type": "stream",
     "text": [
      "===========>Call 078520.KS\n",
      "===========>END 078520.KS\n"
     ]
    }
   ],
   "source": [
    "storeList2 = getStockHistory('078520.KS', '2018-10-01', '2018-11-01')"
   ]
  },
  {
   "cell_type": "code",
   "execution_count": 7,
   "metadata": {},
   "outputs": [
    {
     "name": "stdout",
     "output_type": "stream",
     "text": [
      "===========>Call 095570.KS\n",
      "===========>END 095570.KS\n"
     ]
    }
   ],
   "source": [
    "storeList3 = getStockHistory('095570.KS', '2018-10-01', '2018-11-01')"
   ]
  },
  {
   "cell_type": "markdown",
   "metadata": {},
   "source": [
    "## Make & Merge Dataframe "
   ]
  },
  {
   "cell_type": "code",
   "execution_count": 8,
   "metadata": {},
   "outputs": [],
   "source": [
    "df_data1 = pd.DataFrame(storeList1, columns=storeList1[0].keys())"
   ]
  },
  {
   "cell_type": "code",
   "execution_count": 9,
   "metadata": {},
   "outputs": [],
   "source": [
    "df_data2 = pd.DataFrame(storeList2, columns=storeList2[0].keys())"
   ]
  },
  {
   "cell_type": "code",
   "execution_count": 10,
   "metadata": {},
   "outputs": [],
   "source": [
    "df_data3 = pd.DataFrame(storeList3, columns=storeList3[0].keys())"
   ]
  },
  {
   "cell_type": "code",
   "execution_count": 11,
   "metadata": {},
   "outputs": [],
   "source": [
    "frame = [df_data1, df_data2, df_data3]"
   ]
  },
  {
   "cell_type": "code",
   "execution_count": 12,
   "metadata": {},
   "outputs": [],
   "source": [
    "df_data = pd.concat(frame)"
   ]
  },
  {
   "cell_type": "code",
   "execution_count": 13,
   "metadata": {},
   "outputs": [
    {
     "data": {
      "text/html": [
       "<div>\n",
       "<style>\n",
       "    .dataframe thead tr:only-child th {\n",
       "        text-align: right;\n",
       "    }\n",
       "\n",
       "    .dataframe thead th {\n",
       "        text-align: left;\n",
       "    }\n",
       "\n",
       "    .dataframe tbody tr th {\n",
       "        vertical-align: top;\n",
       "    }\n",
       "</style>\n",
       "<table border=\"1\" class=\"dataframe\">\n",
       "  <thead>\n",
       "    <tr style=\"text-align: right;\">\n",
       "      <th></th>\n",
       "      <th>code</th>\n",
       "      <th>s_date</th>\n",
       "      <th>s_close</th>\n",
       "      <th>s_open</th>\n",
       "      <th>s_high</th>\n",
       "      <th>s_low</th>\n",
       "      <th>s_volume</th>\n",
       "    </tr>\n",
       "  </thead>\n",
       "  <tbody>\n",
       "    <tr>\n",
       "      <th>0</th>\n",
       "      <td>015260.KS</td>\n",
       "      <td>2018-10-01</td>\n",
       "      <td>610</td>\n",
       "      <td>607</td>\n",
       "      <td>614</td>\n",
       "      <td>606</td>\n",
       "      <td>133486</td>\n",
       "    </tr>\n",
       "    <tr>\n",
       "      <th>1</th>\n",
       "      <td>015260.KS</td>\n",
       "      <td>2018-10-02</td>\n",
       "      <td>604</td>\n",
       "      <td>605</td>\n",
       "      <td>616</td>\n",
       "      <td>601</td>\n",
       "      <td>184002</td>\n",
       "    </tr>\n",
       "    <tr>\n",
       "      <th>2</th>\n",
       "      <td>015260.KS</td>\n",
       "      <td>2018-10-04</td>\n",
       "      <td>590</td>\n",
       "      <td>602</td>\n",
       "      <td>611</td>\n",
       "      <td>586</td>\n",
       "      <td>438742</td>\n",
       "    </tr>\n",
       "    <tr>\n",
       "      <th>3</th>\n",
       "      <td>015260.KS</td>\n",
       "      <td>2018-10-05</td>\n",
       "      <td>567</td>\n",
       "      <td>584</td>\n",
       "      <td>597</td>\n",
       "      <td>563</td>\n",
       "      <td>632892</td>\n",
       "    </tr>\n",
       "    <tr>\n",
       "      <th>4</th>\n",
       "      <td>015260.KS</td>\n",
       "      <td>2018-10-08</td>\n",
       "      <td>562</td>\n",
       "      <td>561</td>\n",
       "      <td>570</td>\n",
       "      <td>555</td>\n",
       "      <td>295241</td>\n",
       "    </tr>\n",
       "  </tbody>\n",
       "</table>\n",
       "</div>"
      ],
      "text/plain": [
       "        code     s_date  s_close  s_open  s_high  s_low  s_volume\n",
       "0  015260.KS 2018-10-01      610     607     614    606    133486\n",
       "1  015260.KS 2018-10-02      604     605     616    601    184002\n",
       "2  015260.KS 2018-10-04      590     602     611    586    438742\n",
       "3  015260.KS 2018-10-05      567     584     597    563    632892\n",
       "4  015260.KS 2018-10-08      562     561     570    555    295241"
      ]
     },
     "execution_count": 13,
     "metadata": {},
     "output_type": "execute_result"
    }
   ],
   "source": [
    "df_data.head()"
   ]
  },
  {
   "cell_type": "markdown",
   "metadata": {},
   "source": [
    "## Set Chart Option "
   ]
  },
  {
   "cell_type": "markdown",
   "metadata": {},
   "source": [
    "####  현재까지 사용가능한 옵션들\n",
    "* style\n",
    "    Style 옵션은 \"plt.style.available\"에서 확인할 수 있다. \n",
    "    <br>\n",
    "     'seaborn-dark',\n",
    "     'seaborn-darkgrid',\n",
    "     'seaborn-ticks',\n",
    "     'fivethirtyeight',\n",
    "     'seaborn-whitegrid',\n",
    "     'classic',\n",
    "     '_classic_test',\n",
    "     'fast',\n",
    "     'seaborn-talk',\n",
    "     'seaborn-dark-palette',\n",
    "     'seaborn-bright',\n",
    "     'seaborn-pastel',\n",
    "     'grayscale',\n",
    "     'seaborn-notebook',\n",
    "     'ggplot',\n",
    "     'seaborn-colorblind',\n",
    "     'seaborn-muted',\n",
    "     'seaborn',\n",
    "     'Solarize_Light2',\n",
    "     'seaborn-paper',\n",
    "     'bmh',\n",
    "     'seaborn-white',\n",
    "     'dark_background',\n",
    "     'seaborn-poster',\n",
    "     'seaborn-deep'\n",
    "* fig\n",
    "    <br/>x_size\n",
    "    <br/>y_size\n",
    "* lenged\n",
    "    <br/>loc\n",
    "* axes\n",
    "    <br/>vertical\n",
    "    <br/>marker\n",
    "* color \n",
    "    <br/>\n",
    "    Color 옵션은 map 또는 pallete 를 정의한다. 두 개다 있을 경우에는 pallete 가 우선 적용된다.\n",
    "* box\n",
    "   - boxes\n",
    "   - whiskers\n",
    "   - fliers"
   ]
  },
  {
   "cell_type": "code",
   "execution_count": 14,
   "metadata": {},
   "outputs": [
    {
     "data": {
      "text/plain": [
       "12"
      ]
     },
     "execution_count": 14,
     "metadata": {},
     "output_type": "execute_result"
    }
   ],
   "source": [
    "options = '''{\n",
    "    \"style\":\"seaborn-notebook\", \n",
    "    \"fig\": {\"x_size\": 12, \"y_size\": 6}, \n",
    "    \"legend\":{\"loc\":\"upper right\"},\n",
    "    \"axes\":{\"vertical\":\"true\",  \n",
    "            \"marker\":\"+\"}, \n",
    "    \"color\":{\"pallete\":[\"#173F5F\", \"#20639B\", \"#3CAEA3\", \"#F6D55C\", \"#ED553B\"]},\n",
    "    \"x_axis\":{\"rotation\":0, \n",
    "            \"fontsize\":12},\n",
    "    \"box\":{\"boxes\":{\"color\":\"black\"}, \n",
    "            \"whiskers\":{\"color\":\"black\"}, \n",
    "            \"fliers\":{\"color\":\"black\"}}\n",
    "    }'''\n",
    "# \"map\":\"viridis\"\n",
    "op = MyChartOption(options)\n",
    "op.getOption('fig.x_size')"
   ]
  },
  {
   "cell_type": "markdown",
   "metadata": {},
   "source": [
    "## Call Draw Chart with multi legends"
   ]
  },
  {
   "cell_type": "code",
   "execution_count": 15,
   "metadata": {},
   "outputs": [
    {
     "name": "stderr",
     "output_type": "stream",
     "text": [
      "/Users/choic3/anaconda3/lib/python3.6/site-packages/ipykernel_launcher.py:2: FutureWarning: comparison to `None` will result in an elementwise object comparison in the future.\n",
      "  \n",
      "/Users/choic3/anaconda3/lib/python3.6/site-packages/ipykernel_launcher.py:70: FutureWarning: comparison to `None` will result in an elementwise object comparison in the future.\n"
     ]
    },
    {
     "data": {
      "image/png": "[encoded data removed]",
      "text/plain": [
       "<matplotlib.figure.Figure at 0x108e287b8>"
      ]
     },
     "metadata": {},
     "output_type": "display_data"
    }
   ],
   "source": [
    "title = 'Stock Compare'\n",
    "legend = np.array(df_data['code'].tolist())\n",
    "sequence = np.concatenate([np.full(23,0), np.full(23, 1), np.full(23,2)])\n",
    "x = np.array(df_data.index.tolist())\n",
    "y = np.array(df_data['s_close'].tolist())\n",
    "whiskers = 1.5\n",
    "drawPlotChart(y, title, legend, sequence, whiskers, op)"
   ]
  },
  {
   "cell_type": "markdown",
   "metadata": {},
   "source": [
    "## Call Draw Chart"
   ]
  },
  {
   "cell_type": "code",
   "execution_count": 16,
   "metadata": {},
   "outputs": [
    {
     "data": {
      "image/png": "[encoded data removed]",
      "text/plain": [
       "<matplotlib.figure.Figure at 0x106fd8400>"
      ]
     },
     "metadata": {},
     "output_type": "display_data"
    }
   ],
   "source": [
    "title = np.array(df_data1['code'].tolist())[0]\n",
    "x1 = np.array(df_data1.index.tolist())\n",
    "y1 = np.array(df_data1['s_close'].tolist())\n",
    "whiskers = 1.5\n",
    "drawPlotChart(y1, title, None, None, whiskers, op)"
   ]
  }
 ],
 "metadata": {
  "kernelspec": {
   "display_name": "Python 3",
   "language": "python",
   "name": "python3"
  },
  "language_info": {
   "codemirror_mode": {
    "name": "ipython",
    "version": 3
   },
   "file_extension": ".py",
   "mimetype": "text/x-python",
   "name": "python",
   "nbconvert_exporter": "python",
   "pygments_lexer": "ipython3",
   "version": "3.6.3"
  }
 },
 "nbformat": 4,
 "nbformat_minor": 2
}
